{
  "nbformat": 4,
  "nbformat_minor": 0,
  "metadata": {
    "colab": {
      "name": "Copy of Python_Las.ipynb",
      "provenance": [],
      "collapsed_sections": []
    },
    "kernelspec": {
      "name": "python3",
      "display_name": "Python 3"
    }
  },
  "cells": [
    {
      "cell_type": "code",
      "metadata": {
        "id": "c5BeawVD2-p2",
        "colab_type": "code",
        "colab": {
          "base_uri": "https://localhost:8080/",
          "height": 109
        },
        "outputId": "08fd2ee7-a0d2-48c4-9d7b-a818939eff53"
      },
      "source": [
        "!pip install lasio\n",
        "!pip install -r optional-packages.txt\n",
        "!pip install --upgrade lasio"
      ],
      "execution_count": null,
      "outputs": [
        {
          "output_type": "stream",
          "text": [
            "Requirement already satisfied: lasio in /usr/local/lib/python3.6/dist-packages (0.25.0)\n",
            "Requirement already satisfied: numpy in /usr/local/lib/python3.6/dist-packages (from lasio) (1.18.2)\n",
            "\u001b[31mERROR: Could not open requirements file: [Errno 2] No such file or directory: 'optional-packages.txt'\u001b[0m\n",
            "Requirement already up-to-date: lasio in /usr/local/lib/python3.6/dist-packages (0.25.0)\n",
            "Requirement already satisfied, skipping upgrade: numpy in /usr/local/lib/python3.6/dist-packages (from lasio) (1.18.2)\n"
          ],
          "name": "stdout"
        }
      ]
    },
    {
      "cell_type": "code",
      "metadata": {
        "id": "GJAPh1rQ3iR5",
        "colab_type": "code",
        "colab": {}
      },
      "source": [
        "import pandas as pd\n",
        "import numpy as np\n",
        "import lasio"
      ],
      "execution_count": null,
      "outputs": []
    },
    {
      "cell_type": "code",
      "metadata": {
        "id": "orHCn2tX4iNb",
        "colab_type": "code",
        "colab": {
          "base_uri": "https://localhost:8080/",
          "height": 366
        },
        "outputId": "0b6ac98f-a959-45e9-9b3d-783b0efd3c52"
      },
      "source": [
        "las = lasio.read('https://github.com/mardani72/LAS_Pandas/blob/master/1050383876.las?raw=true')\n",
        "las.curves"
      ],
      "execution_count": null,
      "outputs": [
        {
          "output_type": "stream",
          "text": [
            "ERROR! Session/line number was not unique in database. History logging moved to new session 59\n"
          ],
          "name": "stdout"
        },
        {
          "output_type": "execute_result",
          "data": {
            "text/plain": [
              "[CurveItem(mnemonic=DEPT, unit=FT, value=0 000 00 00, descr=Depth, original_mnemonic=DEPT, data.shape=(7056,)),\n",
              " CurveItem(mnemonic=CNPOR, unit=PU, value=0, descr=CN Selected Porosity, original_mnemonic=CNPOR, data.shape=(7056,)),\n",
              " CurveItem(mnemonic=DCAL, unit=IN, value=0, descr=Caliper from Density Tool, original_mnemonic=DCAL, data.shape=(7056,)),\n",
              " CurveItem(mnemonic=DPOR, unit=PU, value=0, descr=Density Porosity, original_mnemonic=DPOR, data.shape=(7056,)),\n",
              " CurveItem(mnemonic=GR, unit=GAPI, value=0, descr=Gamma Ray, original_mnemonic=GR, data.shape=(7056,)),\n",
              " CurveItem(mnemonic=RHOB, unit=G/CC, value=0, descr=Bulk Density, original_mnemonic=RHOB, data.shape=(7056,)),\n",
              " CurveItem(mnemonic=RHOC, unit=G/CC, value=0, descr=Density Correction, original_mnemonic=RHOC, data.shape=(7056,)),\n",
              " CurveItem(mnemonic=RILD, unit=OHM-M, value=0, descr=DIL Deep Resistivity, original_mnemonic=RILD, data.shape=(7056,)),\n",
              " CurveItem(mnemonic=RILM, unit=OHM-M, value=0, descr=DIL Medium Resistivity, original_mnemonic=RILM, data.shape=(7056,)),\n",
              " CurveItem(mnemonic=RLL3, unit=OHM-M, value=0, descr=DIL Shallow Resistivity, original_mnemonic=RLL3, data.shape=(7056,)),\n",
              " CurveItem(mnemonic=RXORT, unit=, value=0, descr=Rxo / Rt, original_mnemonic=RXORT, data.shape=(7056,)),\n",
              " CurveItem(mnemonic=SP, unit=MV, value=0, descr=DIL Spontaneous Potential, original_mnemonic=SP, data.shape=(7056,)),\n",
              " CurveItem(mnemonic=MEL15, unit=OHM-M, value=0, descr=MICRO 1.5, original_mnemonic=MEL15, data.shape=(7056,)),\n",
              " CurveItem(mnemonic=MEL20, unit=OHM-M, value=0, descr=MICRO 2.O, original_mnemonic=MEL20, data.shape=(7056,)),\n",
              " CurveItem(mnemonic=DT, unit=USEC/FT, value=0, descr=DELTA TIME, original_mnemonic=DT, data.shape=(7056,)),\n",
              " CurveItem(mnemonic=ITT, unit=MSEC, value=0, descr=Integrated Travel Time Blips, original_mnemonic=ITT, data.shape=(7056,)),\n",
              " CurveItem(mnemonic=MELCAL, unit=IN, value=0, descr=MICRO CALIPER, original_mnemonic=MELCAL, data.shape=(7056,)),\n",
              " CurveItem(mnemonic=SPOR, unit=PU, value=0, descr=SONIC POROSITY, original_mnemonic=SPOR, data.shape=(7056,))]"
            ]
          },
          "metadata": {
            "tags": []
          },
          "execution_count": 18
        }
      ]
    },
    {
      "cell_type": "code",
      "metadata": {
        "id": "xzy2oXe44_0t",
        "colab_type": "code",
        "colab": {}
      },
      "source": [
        "df = las.df()    #store las file in df variable as pandas "
      ],
      "execution_count": null,
      "outputs": []
    },
    {
      "cell_type": "code",
      "metadata": {
        "id": "t5XQ_AGc5Y6h",
        "colab_type": "code",
        "colab": {
          "base_uri": "https://localhost:8080/",
          "height": 238
        },
        "outputId": "7368e27a-de69-490a-d7a9-6c10b6a86d12"
      },
      "source": [
        "df.head()"
      ],
      "execution_count": null,
      "outputs": [
        {
          "output_type": "execute_result",
          "data": {
            "text/html": [
              "<div>\n",
              "<style scoped>\n",
              "    .dataframe tbody tr th:only-of-type {\n",
              "        vertical-align: middle;\n",
              "    }\n",
              "\n",
              "    .dataframe tbody tr th {\n",
              "        vertical-align: top;\n",
              "    }\n",
              "\n",
              "    .dataframe thead th {\n",
              "        text-align: right;\n",
              "    }\n",
              "</style>\n",
              "<table border=\"1\" class=\"dataframe\">\n",
              "  <thead>\n",
              "    <tr style=\"text-align: right;\">\n",
              "      <th></th>\n",
              "      <th>CNPOR</th>\n",
              "      <th>DCAL</th>\n",
              "      <th>DPOR</th>\n",
              "      <th>GR</th>\n",
              "      <th>RHOB</th>\n",
              "      <th>RHOC</th>\n",
              "      <th>RILD</th>\n",
              "      <th>RILM</th>\n",
              "      <th>RLL3</th>\n",
              "      <th>RXORT</th>\n",
              "      <th>SP</th>\n",
              "      <th>MEL15</th>\n",
              "      <th>MEL20</th>\n",
              "      <th>DT</th>\n",
              "      <th>ITT</th>\n",
              "      <th>MELCAL</th>\n",
              "      <th>SPOR</th>\n",
              "    </tr>\n",
              "    <tr>\n",
              "      <th>DEPT</th>\n",
              "      <th></th>\n",
              "      <th></th>\n",
              "      <th></th>\n",
              "      <th></th>\n",
              "      <th></th>\n",
              "      <th></th>\n",
              "      <th></th>\n",
              "      <th></th>\n",
              "      <th></th>\n",
              "      <th></th>\n",
              "      <th></th>\n",
              "      <th></th>\n",
              "      <th></th>\n",
              "      <th></th>\n",
              "      <th></th>\n",
              "      <th></th>\n",
              "      <th></th>\n",
              "    </tr>\n",
              "  </thead>\n",
              "  <tbody>\n",
              "    <tr>\n",
              "      <th>6.0</th>\n",
              "      <td>NaN</td>\n",
              "      <td>NaN</td>\n",
              "      <td>NaN</td>\n",
              "      <td>23.8362</td>\n",
              "      <td>NaN</td>\n",
              "      <td>NaN</td>\n",
              "      <td>NaN</td>\n",
              "      <td>NaN</td>\n",
              "      <td>NaN</td>\n",
              "      <td>NaN</td>\n",
              "      <td>NaN</td>\n",
              "      <td>NaN</td>\n",
              "      <td>NaN</td>\n",
              "      <td>NaN</td>\n",
              "      <td>NaN</td>\n",
              "      <td>NaN</td>\n",
              "      <td>NaN</td>\n",
              "    </tr>\n",
              "    <tr>\n",
              "      <th>6.5</th>\n",
              "      <td>NaN</td>\n",
              "      <td>NaN</td>\n",
              "      <td>NaN</td>\n",
              "      <td>28.8864</td>\n",
              "      <td>NaN</td>\n",
              "      <td>NaN</td>\n",
              "      <td>NaN</td>\n",
              "      <td>NaN</td>\n",
              "      <td>NaN</td>\n",
              "      <td>NaN</td>\n",
              "      <td>NaN</td>\n",
              "      <td>NaN</td>\n",
              "      <td>NaN</td>\n",
              "      <td>NaN</td>\n",
              "      <td>NaN</td>\n",
              "      <td>NaN</td>\n",
              "      <td>NaN</td>\n",
              "    </tr>\n",
              "    <tr>\n",
              "      <th>7.0</th>\n",
              "      <td>NaN</td>\n",
              "      <td>NaN</td>\n",
              "      <td>NaN</td>\n",
              "      <td>33.1935</td>\n",
              "      <td>NaN</td>\n",
              "      <td>NaN</td>\n",
              "      <td>NaN</td>\n",
              "      <td>NaN</td>\n",
              "      <td>NaN</td>\n",
              "      <td>NaN</td>\n",
              "      <td>NaN</td>\n",
              "      <td>NaN</td>\n",
              "      <td>NaN</td>\n",
              "      <td>NaN</td>\n",
              "      <td>NaN</td>\n",
              "      <td>NaN</td>\n",
              "      <td>NaN</td>\n",
              "    </tr>\n",
              "    <tr>\n",
              "      <th>7.5</th>\n",
              "      <td>NaN</td>\n",
              "      <td>NaN</td>\n",
              "      <td>NaN</td>\n",
              "      <td>34.6154</td>\n",
              "      <td>NaN</td>\n",
              "      <td>NaN</td>\n",
              "      <td>NaN</td>\n",
              "      <td>NaN</td>\n",
              "      <td>NaN</td>\n",
              "      <td>NaN</td>\n",
              "      <td>NaN</td>\n",
              "      <td>NaN</td>\n",
              "      <td>NaN</td>\n",
              "      <td>NaN</td>\n",
              "      <td>NaN</td>\n",
              "      <td>NaN</td>\n",
              "      <td>NaN</td>\n",
              "    </tr>\n",
              "    <tr>\n",
              "      <th>8.0</th>\n",
              "      <td>NaN</td>\n",
              "      <td>NaN</td>\n",
              "      <td>NaN</td>\n",
              "      <td>36.0153</td>\n",
              "      <td>NaN</td>\n",
              "      <td>NaN</td>\n",
              "      <td>NaN</td>\n",
              "      <td>NaN</td>\n",
              "      <td>NaN</td>\n",
              "      <td>NaN</td>\n",
              "      <td>NaN</td>\n",
              "      <td>NaN</td>\n",
              "      <td>NaN</td>\n",
              "      <td>NaN</td>\n",
              "      <td>NaN</td>\n",
              "      <td>NaN</td>\n",
              "      <td>NaN</td>\n",
              "    </tr>\n",
              "  </tbody>\n",
              "</table>\n",
              "</div>"
            ],
            "text/plain": [
              "      CNPOR  DCAL  DPOR       GR  RHOB  ...  MEL20  DT  ITT  MELCAL  SPOR\n",
              "DEPT                                    ...                              \n",
              "6.0     NaN   NaN   NaN  23.8362   NaN  ...    NaN NaN  NaN     NaN   NaN\n",
              "6.5     NaN   NaN   NaN  28.8864   NaN  ...    NaN NaN  NaN     NaN   NaN\n",
              "7.0     NaN   NaN   NaN  33.1935   NaN  ...    NaN NaN  NaN     NaN   NaN\n",
              "7.5     NaN   NaN   NaN  34.6154   NaN  ...    NaN NaN  NaN     NaN   NaN\n",
              "8.0     NaN   NaN   NaN  36.0153   NaN  ...    NaN NaN  NaN     NaN   NaN\n",
              "\n",
              "[5 rows x 17 columns]"
            ]
          },
          "metadata": {
            "tags": []
          },
          "execution_count": 20
        }
      ]
    },
    {
      "cell_type": "code",
      "metadata": {
        "id": "uNtdkXth5boO",
        "colab_type": "code",
        "colab": {
          "base_uri": "https://localhost:8080/",
          "height": 72
        },
        "outputId": "1a154465-70c9-4973-ee03-afcbdb5b01d8"
      },
      "source": [
        "df.columns"
      ],
      "execution_count": null,
      "outputs": [
        {
          "output_type": "execute_result",
          "data": {
            "text/plain": [
              "Index(['CNPOR', 'DCAL', 'DPOR', 'GR', 'RHOB', 'RHOC', 'RILD', 'RILM', 'RLL3',\n",
              "       'RXORT', 'SP', 'MEL15', 'MEL20', 'DT', 'ITT', 'MELCAL', 'SPOR'],\n",
              "      dtype='object')"
            ]
          },
          "metadata": {
            "tags": []
          },
          "execution_count": 21
        }
      ]
    },
    {
      "cell_type": "code",
      "metadata": {
        "id": "2SKQfNtL5v_E",
        "colab_type": "code",
        "colab": {
          "base_uri": "https://localhost:8080/",
          "height": 35
        },
        "outputId": "afac580c-81f3-4b6d-d587-cc368d0a9e26"
      },
      "source": [
        "df.shape"
      ],
      "execution_count": null,
      "outputs": [
        {
          "output_type": "execute_result",
          "data": {
            "text/plain": [
              "(7056, 17)"
            ]
          },
          "metadata": {
            "tags": []
          },
          "execution_count": 22
        }
      ]
    },
    {
      "cell_type": "code",
      "metadata": {
        "id": "lxgGrySz5yaK",
        "colab_type": "code",
        "colab": {}
      },
      "source": [
        "df_selected = df[['CNPOR', 'GR', 'RHOB', 'DT', 'MELCAL', 'SPOR']]"
      ],
      "execution_count": null,
      "outputs": []
    },
    {
      "cell_type": "code",
      "metadata": {
        "id": "s8L_bu3F6Pvn",
        "colab_type": "code",
        "colab": {
          "base_uri": "https://localhost:8080/",
          "height": 146
        },
        "outputId": "85beefc8-39df-4c64-daff-d8fdab1737e0"
      },
      "source": [
        "df_selected.isna().sum()"
      ],
      "execution_count": null,
      "outputs": [
        {
          "output_type": "execute_result",
          "data": {
            "text/plain": [
              "CNPOR     2064\n",
              "GR          58\n",
              "RHOB      2026\n",
              "DT          51\n",
              "MELCAL    2030\n",
              "SPOR        51\n",
              "dtype: int64"
            ]
          },
          "metadata": {
            "tags": []
          },
          "execution_count": 24
        }
      ]
    },
    {
      "cell_type": "code",
      "metadata": {
        "id": "uiSrozKj6S5E",
        "colab_type": "code",
        "colab": {}
      },
      "source": [
        "df_dropped = df_selected.dropna(subset=['GR', 'DT', 'SPOR'],axis=0, how='any')"
      ],
      "execution_count": null,
      "outputs": []
    },
    {
      "cell_type": "code",
      "metadata": {
        "id": "jNhyLBwM6h__",
        "colab_type": "code",
        "colab": {
          "base_uri": "https://localhost:8080/",
          "height": 300
        },
        "outputId": "ca10c293-4854-4afb-9c2f-932852db0260"
      },
      "source": [
        "df_dropped.describe()"
      ],
      "execution_count": null,
      "outputs": [
        {
          "output_type": "execute_result",
          "data": {
            "text/html": [
              "<div>\n",
              "<style scoped>\n",
              "    .dataframe tbody tr th:only-of-type {\n",
              "        vertical-align: middle;\n",
              "    }\n",
              "\n",
              "    .dataframe tbody tr th {\n",
              "        vertical-align: top;\n",
              "    }\n",
              "\n",
              "    .dataframe thead th {\n",
              "        text-align: right;\n",
              "    }\n",
              "</style>\n",
              "<table border=\"1\" class=\"dataframe\">\n",
              "  <thead>\n",
              "    <tr style=\"text-align: right;\">\n",
              "      <th></th>\n",
              "      <th>CNPOR</th>\n",
              "      <th>GR</th>\n",
              "      <th>RHOB</th>\n",
              "      <th>DT</th>\n",
              "      <th>MELCAL</th>\n",
              "      <th>SPOR</th>\n",
              "    </tr>\n",
              "  </thead>\n",
              "  <tbody>\n",
              "    <tr>\n",
              "      <th>count</th>\n",
              "      <td>4992.000000</td>\n",
              "      <td>6962.000000</td>\n",
              "      <td>5010.000000</td>\n",
              "      <td>6962.000000</td>\n",
              "      <td>5010.000000</td>\n",
              "      <td>6962.000000</td>\n",
              "    </tr>\n",
              "    <tr>\n",
              "      <th>mean</th>\n",
              "      <td>19.184611</td>\n",
              "      <td>58.035839</td>\n",
              "      <td>2.494757</td>\n",
              "      <td>82.001241</td>\n",
              "      <td>8.805313</td>\n",
              "      <td>24.329025</td>\n",
              "    </tr>\n",
              "    <tr>\n",
              "      <th>std</th>\n",
              "      <td>7.939384</td>\n",
              "      <td>29.548550</td>\n",
              "      <td>0.207499</td>\n",
              "      <td>29.147369</td>\n",
              "      <td>2.242689</td>\n",
              "      <td>20.613416</td>\n",
              "    </tr>\n",
              "    <tr>\n",
              "      <th>min</th>\n",
              "      <td>-0.087500</td>\n",
              "      <td>5.712800</td>\n",
              "      <td>1.421800</td>\n",
              "      <td>36.290500</td>\n",
              "      <td>7.148400</td>\n",
              "      <td>-7.998200</td>\n",
              "    </tr>\n",
              "    <tr>\n",
              "      <th>25%</th>\n",
              "      <td>13.698600</td>\n",
              "      <td>36.854175</td>\n",
              "      <td>2.441700</td>\n",
              "      <td>63.909100</td>\n",
              "      <td>7.773200</td>\n",
              "      <td>11.533975</td>\n",
              "    </tr>\n",
              "    <tr>\n",
              "      <th>50%</th>\n",
              "      <td>19.939850</td>\n",
              "      <td>54.724650</td>\n",
              "      <td>2.542100</td>\n",
              "      <td>74.307050</td>\n",
              "      <td>7.929500</td>\n",
              "      <td>18.887600</td>\n",
              "    </tr>\n",
              "    <tr>\n",
              "      <th>75%</th>\n",
              "      <td>24.594525</td>\n",
              "      <td>74.357100</td>\n",
              "      <td>2.617100</td>\n",
              "      <td>91.237475</td>\n",
              "      <td>8.648550</td>\n",
              "      <td>30.861000</td>\n",
              "    </tr>\n",
              "    <tr>\n",
              "      <th>max</th>\n",
              "      <td>45.596600</td>\n",
              "      <td>345.344000</td>\n",
              "      <td>2.978700</td>\n",
              "      <td>275.567300</td>\n",
              "      <td>18.451900</td>\n",
              "      <td>161.221500</td>\n",
              "    </tr>\n",
              "  </tbody>\n",
              "</table>\n",
              "</div>"
            ],
            "text/plain": [
              "             CNPOR           GR  ...       MELCAL         SPOR\n",
              "count  4992.000000  6962.000000  ...  5010.000000  6962.000000\n",
              "mean     19.184611    58.035839  ...     8.805313    24.329025\n",
              "std       7.939384    29.548550  ...     2.242689    20.613416\n",
              "min      -0.087500     5.712800  ...     7.148400    -7.998200\n",
              "25%      13.698600    36.854175  ...     7.773200    11.533975\n",
              "50%      19.939850    54.724650  ...     7.929500    18.887600\n",
              "75%      24.594525    74.357100  ...     8.648550    30.861000\n",
              "max      45.596600   345.344000  ...    18.451900   161.221500\n",
              "\n",
              "[8 rows x 6 columns]"
            ]
          },
          "metadata": {
            "tags": []
          },
          "execution_count": 26
        }
      ]
    },
    {
      "cell_type": "code",
      "metadata": {
        "id": "NSU0At0E6lZe",
        "colab_type": "code",
        "colab": {}
      },
      "source": [
        "df_filt = df_dropped[(df_dropped.CNPOR > -15)&(df_dropped.GR <= 50)]\n",
        "df_filt = df_dropped[(df_dropped.GR > 0) & (df_dropped.GR  <= 250)]\n",
        "df_filt = df_dropped[(df_dropped.RHOB> 1) & (df_dropped.RHOB<= 3)]\n",
        "df_filt = df_dropped[(df_dropped.DT > 30) & (df_dropped.DT <= 140)]"
      ],
      "execution_count": null,
      "outputs": []
    },
    {
      "cell_type": "code",
      "metadata": {
        "id": "tVRwgMSR86iZ",
        "colab_type": "code",
        "colab": {}
      },
      "source": [
        "df = df_filt.copy()      #make a copy of the latest dataset\n",
        "df['Vsh'] = (df.GR - df.GR.min()) / (df.GR.max() - df.GR.min())"
      ],
      "execution_count": null,
      "outputs": []
    },
    {
      "cell_type": "code",
      "metadata": {
        "id": "bRj6azZb9H9g",
        "colab_type": "code",
        "colab": {
          "base_uri": "https://localhost:8080/",
          "height": 206
        },
        "outputId": "f6901d69-b679-4c57-a085-1d8c78483645"
      },
      "source": [
        "df_idx = df.rename_axis('Depth').reset_index()\n",
        "df_idx.head()"
      ],
      "execution_count": null,
      "outputs": [
        {
          "output_type": "execute_result",
          "data": {
            "text/html": [
              "<div>\n",
              "<style scoped>\n",
              "    .dataframe tbody tr th:only-of-type {\n",
              "        vertical-align: middle;\n",
              "    }\n",
              "\n",
              "    .dataframe tbody tr th {\n",
              "        vertical-align: top;\n",
              "    }\n",
              "\n",
              "    .dataframe thead th {\n",
              "        text-align: right;\n",
              "    }\n",
              "</style>\n",
              "<table border=\"1\" class=\"dataframe\">\n",
              "  <thead>\n",
              "    <tr style=\"text-align: right;\">\n",
              "      <th></th>\n",
              "      <th>Depth</th>\n",
              "      <th>CNPOR</th>\n",
              "      <th>GR</th>\n",
              "      <th>RHOB</th>\n",
              "      <th>DT</th>\n",
              "      <th>MELCAL</th>\n",
              "      <th>SPOR</th>\n",
              "      <th>Vsh</th>\n",
              "    </tr>\n",
              "  </thead>\n",
              "  <tbody>\n",
              "    <tr>\n",
              "      <th>0</th>\n",
              "      <td>24.0</td>\n",
              "      <td>NaN</td>\n",
              "      <td>63.1037</td>\n",
              "      <td>NaN</td>\n",
              "      <td>92.7520</td>\n",
              "      <td>NaN</td>\n",
              "      <td>31.9321</td>\n",
              "      <td>0.168980</td>\n",
              "    </tr>\n",
              "    <tr>\n",
              "      <th>1</th>\n",
              "      <td>24.5</td>\n",
              "      <td>NaN</td>\n",
              "      <td>58.2448</td>\n",
              "      <td>NaN</td>\n",
              "      <td>92.9061</td>\n",
              "      <td>NaN</td>\n",
              "      <td>32.0411</td>\n",
              "      <td>0.154674</td>\n",
              "    </tr>\n",
              "    <tr>\n",
              "      <th>2</th>\n",
              "      <td>25.0</td>\n",
              "      <td>NaN</td>\n",
              "      <td>52.1383</td>\n",
              "      <td>NaN</td>\n",
              "      <td>92.8725</td>\n",
              "      <td>NaN</td>\n",
              "      <td>32.0173</td>\n",
              "      <td>0.136694</td>\n",
              "    </tr>\n",
              "    <tr>\n",
              "      <th>3</th>\n",
              "      <td>25.5</td>\n",
              "      <td>NaN</td>\n",
              "      <td>50.7750</td>\n",
              "      <td>NaN</td>\n",
              "      <td>92.6159</td>\n",
              "      <td>NaN</td>\n",
              "      <td>31.8359</td>\n",
              "      <td>0.132680</td>\n",
              "    </tr>\n",
              "    <tr>\n",
              "      <th>4</th>\n",
              "      <td>26.0</td>\n",
              "      <td>NaN</td>\n",
              "      <td>57.7431</td>\n",
              "      <td>NaN</td>\n",
              "      <td>92.2255</td>\n",
              "      <td>NaN</td>\n",
              "      <td>31.5598</td>\n",
              "      <td>0.153196</td>\n",
              "    </tr>\n",
              "  </tbody>\n",
              "</table>\n",
              "</div>"
            ],
            "text/plain": [
              "   Depth  CNPOR       GR  RHOB       DT  MELCAL     SPOR       Vsh\n",
              "0   24.0    NaN  63.1037   NaN  92.7520     NaN  31.9321  0.168980\n",
              "1   24.5    NaN  58.2448   NaN  92.9061     NaN  32.0411  0.154674\n",
              "2   25.0    NaN  52.1383   NaN  92.8725     NaN  32.0173  0.136694\n",
              "3   25.5    NaN  50.7750   NaN  92.6159     NaN  31.8359  0.132680\n",
              "4   26.0    NaN  57.7431   NaN  92.2255     NaN  31.5598  0.153196"
            ]
          },
          "metadata": {
            "tags": []
          },
          "execution_count": 29
        }
      ]
    },
    {
      "cell_type": "code",
      "metadata": {
        "id": "IsifBhLC9JoR",
        "colab_type": "code",
        "colab": {}
      },
      "source": [
        "import matplotlib.pyplot as plt\n",
        "def log_plot(logs):\n",
        "    logs = logs.sort_values(by='Depth')\n",
        "    top = logs.Depth.min()\n",
        "    bot = logs.Depth.max()\n",
        "    \n",
        "    f, ax = plt.subplots(nrows=1, ncols=6, figsize=(12,8))\n",
        "    ax[0].plot(logs.GR, logs.Depth, color='green')\n",
        "    ax[1].plot(logs.CNPOR, logs.Depth, color='red')\n",
        "    ax[2].plot(logs.DT, logs.Depth, color='black')\n",
        "    ax[3].plot(logs.MELCAL, logs.Depth, color='blue')\n",
        "    ax[4].plot(logs.RHOB, logs.Depth, color='c')\n",
        "    ax[5].plot(logs.Vsh, logs.Depth, color='m')\n",
        "    \n",
        "    for i in range(len(ax)):\n",
        "        ax[i].set_ylim(top,bot)\n",
        "        ax[i].invert_yaxis()\n",
        "        ax[i].grid()\n",
        "        \n",
        "    ax[0].set_xlabel(\"GR\")\n",
        "    ax[0].set_xlim(logs.GR.min(),logs.GR.max())\n",
        "    ax[0].set_ylabel(\"Depth(ft)\")\n",
        "    ax[1].set_xlabel(\"CNPOR\")\n",
        "    ax[1].set_xlim(logs.CNPOR.min(),logs.CNPOR.max())\n",
        "    ax[2].set_xlabel(\"DT\")\n",
        "    ax[2].set_xlim(logs.DT.min(),logs.DT.max())\n",
        "    ax[3].set_xlabel(\"MELCAL\")\n",
        "    ax[3].set_xlim(logs.MELCAL.min(),logs.MELCAL.max())\n",
        "    ax[4].set_xlabel(\"RHOB\")\n",
        "    ax[4].set_xlim(logs.RHOB.min(),logs.RHOB.max())\n",
        "    ax[5].set_xlabel(\"Vsh\")\n",
        "    ax[5].set_xlim(logs.Vsh.min(),logs.Vsh.max())\n",
        "    \n",
        "    ax[1].set_yticklabels([]); ax[2].set_yticklabels([]);\n",
        "    ax[3].set_yticklabels([])\n",
        "    ax[4].set_yticklabels([]); ax[5].set_yticklabels([]) \n",
        "    \n",
        "    f.suptitle('Well:KOOCHEL MOUNTAIN #1', fontsize=14,y=0.94)"
      ],
      "execution_count": null,
      "outputs": []
    },
    {
      "cell_type": "code",
      "metadata": {
        "id": "n4PAR7Sp9TWg",
        "colab_type": "code",
        "colab": {
          "base_uri": "https://localhost:8080/",
          "height": 531
        },
        "outputId": "31865f62-1213-4594-fd77-6c6703837476"
      },
      "source": [
        "log_plot(df_idx)"
      ],
      "execution_count": null,
      "outputs": [
        {
          "output_type": "display_data",
          "data": {
            "image/png": "[encoded data removed]",
            "text/plain": [
              "<Figure size 864x576 with 6 Axes>"
            ]
          },
          "metadata": {
            "tags": []
          }
        }
      ]
    }
  ]
}